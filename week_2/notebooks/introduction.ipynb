{
 "cells": [
  {
   "cell_type": "markdown",
   "metadata": {
    "colab_type": "text",
    "id": "JgBj3Zk8Ucb4"
   },
   "source": [
    "# If there's something strange in you accounting department, who you gonna call?"
   ]
  },
  {
   "cell_type": "markdown",
   "metadata": {
    "colab_type": "text",
    "id": "65snHCbHUcb6"
   },
   "source": [
    "Some initialization to make life easier."
   ]
  },
  {
   "cell_type": "code",
   "execution_count": 1,
   "metadata": {
    "colab": {
     "autoexec": {
      "startup": false,
      "wait_interval": 0
     }
    },
    "colab_type": "code",
    "id": "jm8LZPY2WXxT"
   },
   "outputs": [],
   "source": [
    "%matplotlib inline\n",
    "import warnings\n",
    "warnings.filterwarnings('ignore')"
   ]
  },
  {
   "cell_type": "markdown",
   "metadata": {
    "colab_type": "text",
    "id": "5-x4cevIUcb-"
   },
   "source": [
    "[Pandas](https://pandas.pydata.org) is the most important workhorse in data analytics."
   ]
  },
  {
   "cell_type": "code",
   "execution_count": 2,
   "metadata": {
    "colab": {
     "autoexec": {
      "startup": false,
      "wait_interval": 0
     }
    },
    "colab_type": "code",
    "id": "x7culpJSUcb_"
   },
   "outputs": [],
   "source": [
    "import pandas as pd"
   ]
  },
  {
   "cell_type": "markdown",
   "metadata": {
    "colab_type": "text",
    "id": "RvWqILowUccB"
   },
   "source": [
    "We have downloaded two tables from the SAP system:\n",
    "1. The line items are stored in the table `BSEG`\n",
    "2. The header information is stored in the table `BKPF`"
   ]
  },
  {
   "cell_type": "code",
   "execution_count": 3,
   "metadata": {
    "colab": {
     "autoexec": {
      "startup": false,
      "wait_interval": 0
     }
    },
    "colab_type": "code",
    "id": "3af-kCw7UccC"
   },
   "outputs": [],
   "source": [
    "bseg = pd.read_csv('https://raw.githubusercontent.com/mschermann/forensic_accounting/master/BSEG.csv',low_memory=False)\n",
    "bkpf = pd.read_csv('https://raw.githubusercontent.com/mschermann/forensic_accounting/master/BKPF.csv', low_memory=False)"
   ]
  },
  {
   "cell_type": "markdown",
   "metadata": {
    "colab_type": "text",
    "id": "bnJ-xdSNUccE"
   },
   "source": [
    "Both tables from with huge numbers of columns."
   ]
  },
  {
   "cell_type": "code",
   "execution_count": 4,
   "metadata": {
    "colab": {
     "autoexec": {
      "startup": false,
      "wait_interval": 0
     },
     "base_uri": "https://localhost:8080/",
     "height": 119
    },
    "colab_type": "code",
    "executionInfo": {
     "elapsed": 319,
     "status": "ok",
     "timestamp": 1524249527521,
     "user": {
      "displayName": "Michael Schermann",
      "photoUrl": "//lh3.googleusercontent.com/-sXyTj9V4mk8/AAAAAAAAAAI/AAAAAAAAAD4/JcGCCFE3xt8/s50-c-k-no/photo.jpg",
      "userId": "115913240975069260630"
     },
     "user_tz": 420
    },
    "id": "ZPIR8pmtUccF",
    "outputId": "0b9868e3-63bd-4f99-9073-236609c7fb58"
   },
   "outputs": [
    {
     "data": {
      "text/plain": [
       "Index(['Unnamed: 0', 'MANDT', 'BUKRS', 'BELNR', 'GJAHR', 'BUZEI', 'BUZID',\n",
       "       'AUGDT', 'AUGCP', 'AUGBL',\n",
       "       ...\n",
       "       'PEROP_END', 'FASTPAY', 'IGNR_IVREF', 'FMFGUS_KEY', 'FMXDOCNR',\n",
       "       'FMXYEAR', 'FMXDOCLN', 'FMXZEKKN', 'PRODPER', 'RECRF'],\n",
       "      dtype='object', length=337)"
      ]
     },
     "execution_count": 4,
     "metadata": {},
     "output_type": "execute_result"
    }
   ],
   "source": [
    "bseg.columns"
   ]
  },
  {
   "cell_type": "code",
   "execution_count": 5,
   "metadata": {
    "colab": {
     "autoexec": {
      "startup": false,
      "wait_interval": 0
     },
     "base_uri": "https://localhost:8080/",
     "height": 119
    },
    "colab_type": "code",
    "executionInfo": {
     "elapsed": 273,
     "status": "ok",
     "timestamp": 1524249590681,
     "user": {
      "displayName": "Michael Schermann",
      "photoUrl": "//lh3.googleusercontent.com/-sXyTj9V4mk8/AAAAAAAAAAI/AAAAAAAAAD4/JcGCCFE3xt8/s50-c-k-no/photo.jpg",
      "userId": "115913240975069260630"
     },
     "user_tz": 420
    },
    "id": "mNhNph2wWhWw",
    "outputId": "8021650c-5ea8-4d9f-e33d-32d41b347922"
   },
   "outputs": [
    {
     "data": {
      "text/plain": [
       "Index(['Unnamed: 0', 'MANDT', 'BUKRS', 'BELNR', 'GJAHR', 'BLART', 'BLDAT',\n",
       "       'BUDAT', 'MONAT', 'CPUDT',\n",
       "       ...\n",
       "       'SSBLK', 'BATCH', 'SNAME', 'SAMPLED', 'EXCLUDE_FLAG', 'BLIND',\n",
       "       'OFFSET_STATUS', 'OFFSET_REFER_DAT', 'PENRC', 'KNUMV'],\n",
       "      dtype='object', length=114)"
      ]
     },
     "execution_count": 5,
     "metadata": {},
     "output_type": "execute_result"
    }
   ],
   "source": [
    "bkpf.columns"
   ]
  },
  {
   "cell_type": "markdown",
   "metadata": {
    "colab_type": "text",
    "id": "pFSFMPMVUccK"
   },
   "source": [
    "You can find the definition of all the columns using the transaction code `SE16`."
   ]
  },
  {
   "cell_type": "markdown",
   "metadata": {
    "colab_type": "text",
    "id": "UOpe_IojXsEd"
   },
   "source": [
    "## BKPF"
   ]
  },
  {
   "cell_type": "markdown",
   "metadata": {
    "colab_type": "text",
    "id": "NM7KSe7LUccM"
   },
   "source": [
    "For our purposes, we use the following columns from `BKPF`:\n",
    "* `BELNR` - That is the financial document number\n",
    "* `BLART` - That is the document type\n",
    "* `USNAM` - That is the user who posted the financial document"
   ]
  },
  {
   "cell_type": "code",
   "execution_count": 6,
   "metadata": {
    "colab": {
     "autoexec": {
      "startup": false,
      "wait_interval": 0
     }
    },
    "colab_type": "code",
    "id": "aQ_Z0GeOUccM"
   },
   "outputs": [],
   "source": [
    "bkpf = bkpf.loc[:, ['BELNR', 'BLART','USNAM']]"
   ]
  },
  {
   "cell_type": "code",
   "execution_count": 7,
   "metadata": {
    "colab": {
     "autoexec": {
      "startup": false,
      "wait_interval": 0
     },
     "base_uri": "https://localhost:8080/",
     "height": 359
    },
    "colab_type": "code",
    "executionInfo": {
     "elapsed": 351,
     "status": "ok",
     "timestamp": 1524249594124,
     "user": {
      "displayName": "Michael Schermann",
      "photoUrl": "//lh3.googleusercontent.com/-sXyTj9V4mk8/AAAAAAAAAAI/AAAAAAAAAD4/JcGCCFE3xt8/s50-c-k-no/photo.jpg",
      "userId": "115913240975069260630"
     },
     "user_tz": 420
    },
    "id": "sHpoluZAUccP",
    "outputId": "1c82125f-f431-471e-b908-7f477e1d80d7"
   },
   "outputs": [
    {
     "data": {
      "text/html": [
       "<div>\n",
       "<style scoped>\n",
       "    .dataframe tbody tr th:only-of-type {\n",
       "        vertical-align: middle;\n",
       "    }\n",
       "\n",
       "    .dataframe tbody tr th {\n",
       "        vertical-align: top;\n",
       "    }\n",
       "\n",
       "    .dataframe thead th {\n",
       "        text-align: right;\n",
       "    }\n",
       "</style>\n",
       "<table border=\"1\" class=\"dataframe\">\n",
       "  <thead>\n",
       "    <tr style=\"text-align: right;\">\n",
       "      <th></th>\n",
       "      <th>BELNR</th>\n",
       "      <th>BLART</th>\n",
       "      <th>USNAM</th>\n",
       "    </tr>\n",
       "  </thead>\n",
       "  <tbody>\n",
       "    <tr>\n",
       "      <th>887</th>\n",
       "      <td>4900000573</td>\n",
       "      <td>WA</td>\n",
       "      <td>BOETTCHER</td>\n",
       "    </tr>\n",
       "    <tr>\n",
       "      <th>1183</th>\n",
       "      <td>4900000869</td>\n",
       "      <td>WA</td>\n",
       "      <td>BOETTCHER</td>\n",
       "    </tr>\n",
       "    <tr>\n",
       "      <th>2547</th>\n",
       "      <td>5000000184</td>\n",
       "      <td>WE</td>\n",
       "      <td>GBIFAC-01</td>\n",
       "    </tr>\n",
       "    <tr>\n",
       "      <th>690</th>\n",
       "      <td>4900000376</td>\n",
       "      <td>WA</td>\n",
       "      <td>BOETTCHER</td>\n",
       "    </tr>\n",
       "    <tr>\n",
       "      <th>1280</th>\n",
       "      <td>4900000966</td>\n",
       "      <td>WA</td>\n",
       "      <td>BOETTCHER</td>\n",
       "    </tr>\n",
       "    <tr>\n",
       "      <th>19</th>\n",
       "      <td>1500000013</td>\n",
       "      <td>KZ</td>\n",
       "      <td>GBI-005</td>\n",
       "    </tr>\n",
       "    <tr>\n",
       "      <th>2778</th>\n",
       "      <td>5000000415</td>\n",
       "      <td>WE</td>\n",
       "      <td>GBI-005</td>\n",
       "    </tr>\n",
       "    <tr>\n",
       "      <th>2266</th>\n",
       "      <td>4900001952</td>\n",
       "      <td>WA</td>\n",
       "      <td>BOETTCHER</td>\n",
       "    </tr>\n",
       "    <tr>\n",
       "      <th>1013</th>\n",
       "      <td>4900000699</td>\n",
       "      <td>WA</td>\n",
       "      <td>BOETTCHER</td>\n",
       "    </tr>\n",
       "    <tr>\n",
       "      <th>3262</th>\n",
       "      <td>1500000304</td>\n",
       "      <td>KZ</td>\n",
       "      <td>GBIFAC-01</td>\n",
       "    </tr>\n",
       "  </tbody>\n",
       "</table>\n",
       "</div>"
      ],
      "text/plain": [
       "           BELNR BLART      USNAM\n",
       "887   4900000573    WA  BOETTCHER\n",
       "1183  4900000869    WA  BOETTCHER\n",
       "2547  5000000184    WE  GBIFAC-01\n",
       "690   4900000376    WA  BOETTCHER\n",
       "1280  4900000966    WA  BOETTCHER\n",
       "19    1500000013    KZ    GBI-005\n",
       "2778  5000000415    WE    GBI-005\n",
       "2266  4900001952    WA  BOETTCHER\n",
       "1013  4900000699    WA  BOETTCHER\n",
       "3262  1500000304    KZ  GBIFAC-01"
      ]
     },
     "execution_count": 7,
     "metadata": {},
     "output_type": "execute_result"
    }
   ],
   "source": [
    "bkpf.sample(10, random_state=456)"
   ]
  },
  {
   "cell_type": "code",
   "execution_count": 8,
   "metadata": {
    "colab": {
     "autoexec": {
      "startup": false,
      "wait_interval": 0
     },
     "base_uri": "https://localhost:8080/",
     "height": 34
    },
    "colab_type": "code",
    "executionInfo": {
     "elapsed": 444,
     "status": "ok",
     "timestamp": 1524249596870,
     "user": {
      "displayName": "Michael Schermann",
      "photoUrl": "//lh3.googleusercontent.com/-sXyTj9V4mk8/AAAAAAAAAAI/AAAAAAAAAD4/JcGCCFE3xt8/s50-c-k-no/photo.jpg",
      "userId": "115913240975069260630"
     },
     "user_tz": 420
    },
    "id": "Zz4ivFsRUccT",
    "outputId": "2cf89c01-86f8-423d-d32b-a50b85a82d73"
   },
   "outputs": [
    {
     "data": {
      "text/plain": [
       "array(['RV', 'DZ', 'KZ', 'KG', 'WA', 'WL', 'WE', 'RE'], dtype=object)"
      ]
     },
     "execution_count": 8,
     "metadata": {},
     "output_type": "execute_result"
    }
   ],
   "source": [
    "bkpf['BLART'].unique()"
   ]
  },
  {
   "cell_type": "markdown",
   "metadata": {
    "colab_type": "text",
    "id": "SpEOhp6QUccX"
   },
   "source": [
    "Interesting for us is the document type `KZ`, which represents vendor payments."
   ]
  },
  {
   "cell_type": "code",
   "execution_count": 9,
   "metadata": {
    "colab": {
     "autoexec": {
      "startup": false,
      "wait_interval": 0
     }
    },
    "colab_type": "code",
    "id": "oD6pg6DIUccY"
   },
   "outputs": [],
   "source": [
    "bkpf = bkpf[bkpf['BLART']=='KZ']"
   ]
  },
  {
   "cell_type": "markdown",
   "metadata": {
    "colab_type": "text",
    "id": "bXMu-LGAXwZ7"
   },
   "source": [
    "## BSEG"
   ]
  },
  {
   "cell_type": "markdown",
   "metadata": {
    "colab_type": "text",
    "id": "HFDyVAiqUcca"
   },
   "source": [
    "We use the following columns from `BSEG`:\n",
    "* `BELNR` - That is the financial document number\n",
    "* `BSCHL` - That is the posting key\n",
    "* `WRBTR` - That is the amount posted\n",
    "* `LIFNR` - That is vendor account"
   ]
  },
  {
   "cell_type": "code",
   "execution_count": 10,
   "metadata": {
    "colab": {
     "autoexec": {
      "startup": false,
      "wait_interval": 0
     }
    },
    "colab_type": "code",
    "id": "1QpOiPJ-Uccb"
   },
   "outputs": [],
   "source": [
    "bseg = bseg.loc[:, ['BELNR', 'BSCHL', 'WRBTR', 'LIFNR']]"
   ]
  },
  {
   "cell_type": "code",
   "execution_count": 11,
   "metadata": {
    "colab": {
     "autoexec": {
      "startup": false,
      "wait_interval": 0
     },
     "base_uri": "https://localhost:8080/",
     "height": 359
    },
    "colab_type": "code",
    "executionInfo": {
     "elapsed": 358,
     "status": "ok",
     "timestamp": 1524249600014,
     "user": {
      "displayName": "Michael Schermann",
      "photoUrl": "//lh3.googleusercontent.com/-sXyTj9V4mk8/AAAAAAAAAAI/AAAAAAAAAD4/JcGCCFE3xt8/s50-c-k-no/photo.jpg",
      "userId": "115913240975069260630"
     },
     "user_tz": 420
    },
    "id": "9TueXjnTUcce",
    "outputId": "de3d413b-37bc-408c-b741-567c9153f9a4"
   },
   "outputs": [
    {
     "data": {
      "text/html": [
       "<div>\n",
       "<style scoped>\n",
       "    .dataframe tbody tr th:only-of-type {\n",
       "        vertical-align: middle;\n",
       "    }\n",
       "\n",
       "    .dataframe tbody tr th {\n",
       "        vertical-align: top;\n",
       "    }\n",
       "\n",
       "    .dataframe thead th {\n",
       "        text-align: right;\n",
       "    }\n",
       "</style>\n",
       "<table border=\"1\" class=\"dataframe\">\n",
       "  <thead>\n",
       "    <tr style=\"text-align: right;\">\n",
       "      <th></th>\n",
       "      <th>BELNR</th>\n",
       "      <th>BSCHL</th>\n",
       "      <th>WRBTR</th>\n",
       "      <th>LIFNR</th>\n",
       "    </tr>\n",
       "  </thead>\n",
       "  <tbody>\n",
       "    <tr>\n",
       "      <th>559</th>\n",
       "      <td>1.500000e+09</td>\n",
       "      <td>25</td>\n",
       "      <td>1,000.00</td>\n",
       "      <td>125131.0</td>\n",
       "    </tr>\n",
       "    <tr>\n",
       "      <th>235</th>\n",
       "      <td>1.500000e+09</td>\n",
       "      <td>50</td>\n",
       "      <td>5</td>\n",
       "      <td>NaN</td>\n",
       "    </tr>\n",
       "    <tr>\n",
       "      <th>619</th>\n",
       "      <td>1.700000e+09</td>\n",
       "      <td>35</td>\n",
       "      <td>1,960,000.00</td>\n",
       "      <td>125088.0</td>\n",
       "    </tr>\n",
       "    <tr>\n",
       "      <th>32</th>\n",
       "      <td>1.500000e+09</td>\n",
       "      <td>50</td>\n",
       "      <td>1,010,000.00</td>\n",
       "      <td>NaN</td>\n",
       "    </tr>\n",
       "    <tr>\n",
       "      <th>2737</th>\n",
       "      <td>1.500000e+09</td>\n",
       "      <td>50</td>\n",
       "      <td>1927.48</td>\n",
       "      <td>NaN</td>\n",
       "    </tr>\n",
       "    <tr>\n",
       "      <th>425</th>\n",
       "      <td>1.500000e+09</td>\n",
       "      <td>50</td>\n",
       "      <td>1,000,000.00</td>\n",
       "      <td>NaN</td>\n",
       "    </tr>\n",
       "    <tr>\n",
       "      <th>2527</th>\n",
       "      <td>5.105600e+09</td>\n",
       "      <td>31</td>\n",
       "      <td>96,000.00</td>\n",
       "      <td>125108.0</td>\n",
       "    </tr>\n",
       "    <tr>\n",
       "      <th>2808</th>\n",
       "      <td>1.500000e+09</td>\n",
       "      <td>25</td>\n",
       "      <td>1,000.00</td>\n",
       "      <td>125107.0</td>\n",
       "    </tr>\n",
       "    <tr>\n",
       "      <th>943</th>\n",
       "      <td>5.000000e+09</td>\n",
       "      <td>96</td>\n",
       "      <td>63,830.00</td>\n",
       "      <td>125018.0</td>\n",
       "    </tr>\n",
       "    <tr>\n",
       "      <th>557</th>\n",
       "      <td>1.500000e+09</td>\n",
       "      <td>25</td>\n",
       "      <td>1,000.00</td>\n",
       "      <td>125131.0</td>\n",
       "    </tr>\n",
       "  </tbody>\n",
       "</table>\n",
       "</div>"
      ],
      "text/plain": [
       "             BELNR  BSCHL         WRBTR     LIFNR\n",
       "559   1.500000e+09     25      1,000.00  125131.0\n",
       "235   1.500000e+09     50             5       NaN\n",
       "619   1.700000e+09     35  1,960,000.00  125088.0\n",
       "32    1.500000e+09     50  1,010,000.00       NaN\n",
       "2737  1.500000e+09     50       1927.48       NaN\n",
       "425   1.500000e+09     50  1,000,000.00       NaN\n",
       "2527  5.105600e+09     31     96,000.00  125108.0\n",
       "2808  1.500000e+09     25      1,000.00  125107.0\n",
       "943   5.000000e+09     96     63,830.00  125018.0\n",
       "557   1.500000e+09     25      1,000.00  125131.0"
      ]
     },
     "execution_count": 11,
     "metadata": {},
     "output_type": "execute_result"
    }
   ],
   "source": [
    "bseg.sample(10, random_state=456)"
   ]
  },
  {
   "cell_type": "code",
   "execution_count": 12,
   "metadata": {
    "colab": {
     "autoexec": {
      "startup": false,
      "wait_interval": 0
     },
     "base_uri": "https://localhost:8080/",
     "height": 34
    },
    "colab_type": "code",
    "executionInfo": {
     "elapsed": 570,
     "status": "ok",
     "timestamp": 1524249602410,
     "user": {
      "displayName": "Michael Schermann",
      "photoUrl": "//lh3.googleusercontent.com/-sXyTj9V4mk8/AAAAAAAAAAI/AAAAAAAAAD4/JcGCCFE3xt8/s50-c-k-no/photo.jpg",
      "userId": "115913240975069260630"
     },
     "user_tz": 420
    },
    "id": "i7DZj7JNUcco",
    "outputId": "0d8f8c76-75c0-4c80-9718-422c81b2fee0"
   },
   "outputs": [
    {
     "data": {
      "text/plain": [
       "array([50, 25, 40, 35, 89, 96, 86, 99, 81, 91, 31, 83, 93, 21])"
      ]
     },
     "execution_count": 12,
     "metadata": {},
     "output_type": "execute_result"
    }
   ],
   "source": [
    "bseg['BSCHL'].unique()"
   ]
  },
  {
   "cell_type": "markdown",
   "metadata": {
    "colab_type": "text",
    "id": "qN8p8LhlUccs"
   },
   "source": [
    "Interesting for us is the posting key `25`, which represents the debit posting on the vendor account."
   ]
  },
  {
   "cell_type": "code",
   "execution_count": 13,
   "metadata": {
    "colab": {
     "autoexec": {
      "startup": false,
      "wait_interval": 0
     }
    },
    "colab_type": "code",
    "id": "krdWy19BUccu"
   },
   "outputs": [],
   "source": [
    "bseg = bseg[bseg['BSCHL']==25]"
   ]
  },
  {
   "cell_type": "code",
   "execution_count": 14,
   "metadata": {
    "colab": {
     "autoexec": {
      "startup": false,
      "wait_interval": 0
     },
     "base_uri": "https://localhost:8080/",
     "height": 102
    },
    "colab_type": "code",
    "executionInfo": {
     "elapsed": 592,
     "status": "ok",
     "timestamp": 1524249605604,
     "user": {
      "displayName": "Michael Schermann",
      "photoUrl": "//lh3.googleusercontent.com/-sXyTj9V4mk8/AAAAAAAAAAI/AAAAAAAAAD4/JcGCCFE3xt8/s50-c-k-no/photo.jpg",
      "userId": "115913240975069260630"
     },
     "user_tz": 420
    },
    "id": "M4H1oJJLUccy",
    "outputId": "87f5a3fa-3c5e-454d-ab98-f2e4304527f6"
   },
   "outputs": [
    {
     "data": {
      "text/plain": [
       "BELNR    float64\n",
       "BSCHL      int64\n",
       "WRBTR     object\n",
       "LIFNR    float64\n",
       "dtype: object"
      ]
     },
     "execution_count": 14,
     "metadata": {},
     "output_type": "execute_result"
    }
   ],
   "source": [
    "bseg.dtypes"
   ]
  },
  {
   "cell_type": "markdown",
   "metadata": {
    "colab_type": "text",
    "id": "sfslWgKpYAxL"
   },
   "source": [
    "We need to fix the posting value."
   ]
  },
  {
   "cell_type": "code",
   "execution_count": 15,
   "metadata": {
    "colab": {
     "autoexec": {
      "startup": false,
      "wait_interval": 0
     }
    },
    "colab_type": "code",
    "id": "a3jVSvr7Ucc1"
   },
   "outputs": [],
   "source": [
    "bseg['WRBTR'] = bseg['WRBTR'].str.replace(',','')"
   ]
  },
  {
   "cell_type": "code",
   "execution_count": 16,
   "metadata": {
    "colab": {
     "autoexec": {
      "startup": false,
      "wait_interval": 0
     },
     "base_uri": "https://localhost:8080/",
     "height": 204
    },
    "colab_type": "code",
    "executionInfo": {
     "elapsed": 550,
     "status": "ok",
     "timestamp": 1524249607614,
     "user": {
      "displayName": "Michael Schermann",
      "photoUrl": "//lh3.googleusercontent.com/-sXyTj9V4mk8/AAAAAAAAAAI/AAAAAAAAAD4/JcGCCFE3xt8/s50-c-k-no/photo.jpg",
      "userId": "115913240975069260630"
     },
     "user_tz": 420
    },
    "id": "tucKeOO1Ucc4",
    "outputId": "cd6ed536-7b49-4c76-ceaa-56ed22650b97"
   },
   "outputs": [
    {
     "data": {
      "text/html": [
       "<div>\n",
       "<style scoped>\n",
       "    .dataframe tbody tr th:only-of-type {\n",
       "        vertical-align: middle;\n",
       "    }\n",
       "\n",
       "    .dataframe tbody tr th {\n",
       "        vertical-align: top;\n",
       "    }\n",
       "\n",
       "    .dataframe thead th {\n",
       "        text-align: right;\n",
       "    }\n",
       "</style>\n",
       "<table border=\"1\" class=\"dataframe\">\n",
       "  <thead>\n",
       "    <tr style=\"text-align: right;\">\n",
       "      <th></th>\n",
       "      <th>BELNR</th>\n",
       "      <th>BSCHL</th>\n",
       "      <th>WRBTR</th>\n",
       "      <th>LIFNR</th>\n",
       "    </tr>\n",
       "  </thead>\n",
       "  <tbody>\n",
       "    <tr>\n",
       "      <th>1</th>\n",
       "      <td>1.500000e+09</td>\n",
       "      <td>25</td>\n",
       "      <td>213710.00</td>\n",
       "      <td>125131.0</td>\n",
       "    </tr>\n",
       "    <tr>\n",
       "      <th>3</th>\n",
       "      <td>1.500000e+09</td>\n",
       "      <td>25</td>\n",
       "      <td>1068550.00</td>\n",
       "      <td>125131.0</td>\n",
       "    </tr>\n",
       "    <tr>\n",
       "      <th>5</th>\n",
       "      <td>1.500000e+09</td>\n",
       "      <td>25</td>\n",
       "      <td>933153.41</td>\n",
       "      <td>125135.0</td>\n",
       "    </tr>\n",
       "    <tr>\n",
       "      <th>7</th>\n",
       "      <td>1.500000e+09</td>\n",
       "      <td>25</td>\n",
       "      <td>1050.00</td>\n",
       "      <td>125135.0</td>\n",
       "    </tr>\n",
       "    <tr>\n",
       "      <th>9</th>\n",
       "      <td>1.500000e+09</td>\n",
       "      <td>25</td>\n",
       "      <td>30300.00</td>\n",
       "      <td>125131.0</td>\n",
       "    </tr>\n",
       "  </tbody>\n",
       "</table>\n",
       "</div>"
      ],
      "text/plain": [
       "          BELNR  BSCHL       WRBTR     LIFNR\n",
       "1  1.500000e+09     25   213710.00  125131.0\n",
       "3  1.500000e+09     25  1068550.00  125131.0\n",
       "5  1.500000e+09     25   933153.41  125135.0\n",
       "7  1.500000e+09     25     1050.00  125135.0\n",
       "9  1.500000e+09     25    30300.00  125131.0"
      ]
     },
     "execution_count": 16,
     "metadata": {},
     "output_type": "execute_result"
    }
   ],
   "source": [
    "bseg.head()"
   ]
  },
  {
   "cell_type": "markdown",
   "metadata": {
    "colab_type": "text",
    "id": "U2DcMmpQX1O4"
   },
   "source": [
    "## First digit of the posting value"
   ]
  },
  {
   "cell_type": "code",
   "execution_count": 17,
   "metadata": {
    "colab": {
     "autoexec": {
      "startup": false,
      "wait_interval": 0
     }
    },
    "colab_type": "code",
    "id": "fg3UyGDYUcc8"
   },
   "outputs": [],
   "source": [
    "bseg['first'] = bseg['WRBTR'].str[0:1].astype(int)"
   ]
  },
  {
   "cell_type": "markdown",
   "metadata": {
    "colab_type": "text",
    "id": "YYBO3yzGYGvC"
   },
   "source": [
    "## How many documents do we have per vendor?"
   ]
  },
  {
   "cell_type": "code",
   "execution_count": 18,
   "metadata": {
    "colab": {
     "autoexec": {
      "startup": false,
      "wait_interval": 0
     },
     "base_uri": "https://localhost:8080/",
     "height": 272
    },
    "colab_type": "code",
    "executionInfo": {
     "elapsed": 272,
     "status": "ok",
     "timestamp": 1524249609741,
     "user": {
      "displayName": "Michael Schermann",
      "photoUrl": "//lh3.googleusercontent.com/-sXyTj9V4mk8/AAAAAAAAAAI/AAAAAAAAAD4/JcGCCFE3xt8/s50-c-k-no/photo.jpg",
      "userId": "115913240975069260630"
     },
     "user_tz": 420
    },
    "id": "yWn1AE7uUcc-",
    "outputId": "0c7b2386-82e0-40a4-fd07-218dd3fbf912"
   },
   "outputs": [
    {
     "data": {
      "text/plain": [
       "LIFNR\n",
       "125131.0    122\n",
       "125135.0    118\n",
       "125134.0     47\n",
       "125104.0     31\n",
       "125107.0     22\n",
       "125105.0      4\n",
       "125121.0      3\n",
       "125000.0      1\n",
       "125014.0      1\n",
       "125070.0      1\n",
       "125098.0      1\n",
       "125101.0      1\n",
       "125127.0      1\n",
       "dtype: int64"
      ]
     },
     "execution_count": 18,
     "metadata": {},
     "output_type": "execute_result"
    }
   ],
   "source": [
    "vendors = bseg.groupby('LIFNR').size().sort_values(ascending=False)\n",
    "vendors"
   ]
  },
  {
   "cell_type": "code",
   "execution_count": 19,
   "metadata": {
    "colab": {
     "autoexec": {
      "startup": false,
      "wait_interval": 0
     },
     "base_uri": "https://localhost:8080/",
     "height": 136
    },
    "colab_type": "code",
    "executionInfo": {
     "elapsed": 309,
     "status": "ok",
     "timestamp": 1524249611335,
     "user": {
      "displayName": "Michael Schermann",
      "photoUrl": "//lh3.googleusercontent.com/-sXyTj9V4mk8/AAAAAAAAAAI/AAAAAAAAAD4/JcGCCFE3xt8/s50-c-k-no/photo.jpg",
      "userId": "115913240975069260630"
     },
     "user_tz": 420
    },
    "id": "9KuWsOHXUcdE",
    "outputId": "4e84c517-e461-4f27-c5e1-e7f4f6e8379d"
   },
   "outputs": [
    {
     "data": {
      "text/plain": [
       "LIFNR\n",
       "125131.0    122\n",
       "125135.0    118\n",
       "125134.0     47\n",
       "125104.0     31\n",
       "125107.0     22\n",
       "dtype: int64"
      ]
     },
     "execution_count": 19,
     "metadata": {},
     "output_type": "execute_result"
    }
   ],
   "source": [
    "vendors = vendors[vendors > 20]\n",
    "vendors"
   ]
  },
  {
   "cell_type": "code",
   "execution_count": 20,
   "metadata": {
    "colab": {
     "autoexec": {
      "startup": false,
      "wait_interval": 0
     },
     "base_uri": "https://localhost:8080/",
     "height": 34
    },
    "colab_type": "code",
    "executionInfo": {
     "elapsed": 487,
     "status": "ok",
     "timestamp": 1524249612308,
     "user": {
      "displayName": "Michael Schermann",
      "photoUrl": "//lh3.googleusercontent.com/-sXyTj9V4mk8/AAAAAAAAAAI/AAAAAAAAAD4/JcGCCFE3xt8/s50-c-k-no/photo.jpg",
      "userId": "115913240975069260630"
     },
     "user_tz": 420
    },
    "id": "XvIEnA-RUcdI",
    "outputId": "2c7597ba-7221-4cec-eb49-653c445fb98e"
   },
   "outputs": [
    {
     "data": {
      "text/plain": [
       "Float64Index([125131.0, 125135.0, 125134.0, 125104.0, 125107.0], dtype='float64', name='LIFNR')"
      ]
     },
     "execution_count": 20,
     "metadata": {},
     "output_type": "execute_result"
    }
   ],
   "source": [
    "vendors.index"
   ]
  },
  {
   "cell_type": "code",
   "execution_count": 21,
   "metadata": {
    "colab": {
     "autoexec": {
      "startup": false,
      "wait_interval": 0
     }
    },
    "colab_type": "code",
    "id": "JOo-OdG9UcdO"
   },
   "outputs": [],
   "source": [
    "bseg = bseg[bseg['LIFNR'].isin(vendors.index)]"
   ]
  },
  {
   "cell_type": "code",
   "execution_count": 22,
   "metadata": {
    "colab": {
     "autoexec": {
      "startup": false,
      "wait_interval": 0
     },
     "base_uri": "https://localhost:8080/",
     "height": 391
    },
    "colab_type": "code",
    "executionInfo": {
     "elapsed": 489,
     "status": "ok",
     "timestamp": 1524249977509,
     "user": {
      "displayName": "Michael Schermann",
      "photoUrl": "//lh3.googleusercontent.com/-sXyTj9V4mk8/AAAAAAAAAAI/AAAAAAAAAD4/JcGCCFE3xt8/s50-c-k-no/photo.jpg",
      "userId": "115913240975069260630"
     },
     "user_tz": 420
    },
    "id": "3VNxNDQtUcdP",
    "outputId": "80583663-3386-46ec-896d-6c8b48bdc078"
   },
   "outputs": [
    {
     "data": {
      "text/html": [
       "<div>\n",
       "<style scoped>\n",
       "    .dataframe tbody tr th:only-of-type {\n",
       "        vertical-align: middle;\n",
       "    }\n",
       "\n",
       "    .dataframe tbody tr th {\n",
       "        vertical-align: top;\n",
       "    }\n",
       "\n",
       "    .dataframe thead th {\n",
       "        text-align: right;\n",
       "    }\n",
       "</style>\n",
       "<table border=\"1\" class=\"dataframe\">\n",
       "  <thead>\n",
       "    <tr style=\"text-align: right;\">\n",
       "      <th></th>\n",
       "      <th>BELNR</th>\n",
       "      <th>BLART</th>\n",
       "      <th>USNAM</th>\n",
       "    </tr>\n",
       "  </thead>\n",
       "  <tbody>\n",
       "    <tr>\n",
       "      <th>6</th>\n",
       "      <td>1500000000</td>\n",
       "      <td>KZ</td>\n",
       "      <td>GBI-005</td>\n",
       "    </tr>\n",
       "    <tr>\n",
       "      <th>7</th>\n",
       "      <td>1500000001</td>\n",
       "      <td>KZ</td>\n",
       "      <td>GBI-005</td>\n",
       "    </tr>\n",
       "    <tr>\n",
       "      <th>8</th>\n",
       "      <td>1500000002</td>\n",
       "      <td>KZ</td>\n",
       "      <td>GBI-005</td>\n",
       "    </tr>\n",
       "    <tr>\n",
       "      <th>9</th>\n",
       "      <td>1500000003</td>\n",
       "      <td>KZ</td>\n",
       "      <td>GBI-005</td>\n",
       "    </tr>\n",
       "    <tr>\n",
       "      <th>10</th>\n",
       "      <td>1500000004</td>\n",
       "      <td>KZ</td>\n",
       "      <td>GBI-005</td>\n",
       "    </tr>\n",
       "  </tbody>\n",
       "</table>\n",
       "</div>"
      ],
      "text/plain": [
       "         BELNR BLART    USNAM\n",
       "6   1500000000    KZ  GBI-005\n",
       "7   1500000001    KZ  GBI-005\n",
       "8   1500000002    KZ  GBI-005\n",
       "9   1500000003    KZ  GBI-005\n",
       "10  1500000004    KZ  GBI-005"
      ]
     },
     "execution_count": 22,
     "metadata": {},
     "output_type": "execute_result"
    }
   ],
   "source": [
    "bseg.head()\n",
    "bkpf.head()"
   ]
  },
  {
   "cell_type": "markdown",
   "metadata": {
    "colab_type": "text",
    "id": "66jWcphRYRnT"
   },
   "source": [
    "## Integrated dataset"
   ]
  },
  {
   "cell_type": "code",
   "execution_count": 23,
   "metadata": {
    "colab": {
     "autoexec": {
      "startup": false,
      "wait_interval": 0
     }
    },
    "colab_type": "code",
    "id": "-PEP2gFEUcdS"
   },
   "outputs": [],
   "source": [
    "vp = pd.merge(bseg, bkpf, how='left', on='BELNR')"
   ]
  },
  {
   "cell_type": "code",
   "execution_count": 24,
   "metadata": {
    "colab": {
     "autoexec": {
      "startup": false,
      "wait_interval": 0
     },
     "base_uri": "https://localhost:8080/",
     "height": 204
    },
    "colab_type": "code",
    "executionInfo": {
     "elapsed": 432,
     "status": "ok",
     "timestamp": 1524249617326,
     "user": {
      "displayName": "Michael Schermann",
      "photoUrl": "//lh3.googleusercontent.com/-sXyTj9V4mk8/AAAAAAAAAAI/AAAAAAAAAD4/JcGCCFE3xt8/s50-c-k-no/photo.jpg",
      "userId": "115913240975069260630"
     },
     "user_tz": 420
    },
    "id": "2E6nhLcfUcdU",
    "outputId": "6e45afac-686b-4aa6-afb8-c589866a6108"
   },
   "outputs": [
    {
     "data": {
      "text/html": [
       "<div>\n",
       "<style scoped>\n",
       "    .dataframe tbody tr th:only-of-type {\n",
       "        vertical-align: middle;\n",
       "    }\n",
       "\n",
       "    .dataframe tbody tr th {\n",
       "        vertical-align: top;\n",
       "    }\n",
       "\n",
       "    .dataframe thead th {\n",
       "        text-align: right;\n",
       "    }\n",
       "</style>\n",
       "<table border=\"1\" class=\"dataframe\">\n",
       "  <thead>\n",
       "    <tr style=\"text-align: right;\">\n",
       "      <th></th>\n",
       "      <th>first</th>\n",
       "      <th>LIFNR</th>\n",
       "      <th>count</th>\n",
       "    </tr>\n",
       "  </thead>\n",
       "  <tbody>\n",
       "    <tr>\n",
       "      <th>0</th>\n",
       "      <td>1</td>\n",
       "      <td>125104.0</td>\n",
       "      <td>2</td>\n",
       "    </tr>\n",
       "    <tr>\n",
       "      <th>1</th>\n",
       "      <td>1</td>\n",
       "      <td>125107.0</td>\n",
       "      <td>20</td>\n",
       "    </tr>\n",
       "    <tr>\n",
       "      <th>2</th>\n",
       "      <td>1</td>\n",
       "      <td>125131.0</td>\n",
       "      <td>72</td>\n",
       "    </tr>\n",
       "    <tr>\n",
       "      <th>3</th>\n",
       "      <td>1</td>\n",
       "      <td>125134.0</td>\n",
       "      <td>3</td>\n",
       "    </tr>\n",
       "    <tr>\n",
       "      <th>4</th>\n",
       "      <td>1</td>\n",
       "      <td>125135.0</td>\n",
       "      <td>74</td>\n",
       "    </tr>\n",
       "  </tbody>\n",
       "</table>\n",
       "</div>"
      ],
      "text/plain": [
       "   first     LIFNR  count\n",
       "0      1  125104.0      2\n",
       "1      1  125107.0     20\n",
       "2      1  125131.0     72\n",
       "3      1  125134.0      3\n",
       "4      1  125135.0     74"
      ]
     },
     "execution_count": 24,
     "metadata": {},
     "output_type": "execute_result"
    }
   ],
   "source": [
    "ben_vp_vendor = vp.groupby(['first', 'LIFNR'])['first'].count().reset_index(name='count')\n",
    "ben_vp_vendor.head()"
   ]
  },
  {
   "cell_type": "code",
   "execution_count": 25,
   "metadata": {
    "colab": {
     "autoexec": {
      "startup": false,
      "wait_interval": 0
     },
     "base_uri": "https://localhost:8080/",
     "height": 204
    },
    "colab_type": "code",
    "executionInfo": {
     "elapsed": 293,
     "status": "ok",
     "timestamp": 1524249618383,
     "user": {
      "displayName": "Michael Schermann",
      "photoUrl": "//lh3.googleusercontent.com/-sXyTj9V4mk8/AAAAAAAAAAI/AAAAAAAAAD4/JcGCCFE3xt8/s50-c-k-no/photo.jpg",
      "userId": "115913240975069260630"
     },
     "user_tz": 420
    },
    "id": "_hNnjA1PUcdX",
    "outputId": "50c903d6-507a-4d68-e79b-0a0b822a84bd"
   },
   "outputs": [
    {
     "data": {
      "text/html": [
       "<div>\n",
       "<style scoped>\n",
       "    .dataframe tbody tr th:only-of-type {\n",
       "        vertical-align: middle;\n",
       "    }\n",
       "\n",
       "    .dataframe tbody tr th {\n",
       "        vertical-align: top;\n",
       "    }\n",
       "\n",
       "    .dataframe thead th {\n",
       "        text-align: right;\n",
       "    }\n",
       "</style>\n",
       "<table border=\"1\" class=\"dataframe\">\n",
       "  <thead>\n",
       "    <tr style=\"text-align: right;\">\n",
       "      <th></th>\n",
       "      <th>first</th>\n",
       "      <th>USNAM</th>\n",
       "      <th>count</th>\n",
       "    </tr>\n",
       "  </thead>\n",
       "  <tbody>\n",
       "    <tr>\n",
       "      <th>0</th>\n",
       "      <td>1</td>\n",
       "      <td>GBI-005</td>\n",
       "      <td>28</td>\n",
       "    </tr>\n",
       "    <tr>\n",
       "      <th>1</th>\n",
       "      <td>1</td>\n",
       "      <td>GBI-026</td>\n",
       "      <td>83</td>\n",
       "    </tr>\n",
       "    <tr>\n",
       "      <th>2</th>\n",
       "      <td>1</td>\n",
       "      <td>GBIFAC-01</td>\n",
       "      <td>59</td>\n",
       "    </tr>\n",
       "    <tr>\n",
       "      <th>3</th>\n",
       "      <td>2</td>\n",
       "      <td>GBI-005</td>\n",
       "      <td>17</td>\n",
       "    </tr>\n",
       "    <tr>\n",
       "      <th>4</th>\n",
       "      <td>2</td>\n",
       "      <td>GBI-026</td>\n",
       "      <td>7</td>\n",
       "    </tr>\n",
       "  </tbody>\n",
       "</table>\n",
       "</div>"
      ],
      "text/plain": [
       "   first      USNAM  count\n",
       "0      1    GBI-005     28\n",
       "1      1    GBI-026     83\n",
       "2      1  GBIFAC-01     59\n",
       "3      2    GBI-005     17\n",
       "4      2    GBI-026      7"
      ]
     },
     "execution_count": 25,
     "metadata": {},
     "output_type": "execute_result"
    }
   ],
   "source": [
    "ben_vp_accountant = vp.groupby(['first', 'USNAM'])['first'].count().reset_index(name='count')\n",
    "ben_vp_accountant.head()"
   ]
  },
  {
   "cell_type": "markdown",
   "metadata": {
    "colab_type": "text",
    "id": "loHESQOWYXVC"
   },
   "source": [
    "## Benford Analysis"
   ]
  },
  {
   "cell_type": "code",
   "execution_count": 26,
   "metadata": {
    "colab": {
     "autoexec": {
      "startup": false,
      "wait_interval": 0
     }
    },
    "colab_type": "code",
    "id": "LLmqxE51Ucda"
   },
   "outputs": [],
   "source": [
    "import math\n",
    "benford = [math.log10(1 + 1 / d)*100 for d in range(1,10)]\n",
    "d = {'n': range(1,10), 'b': benford}\n",
    "ben_predict = pd.DataFrame(d)"
   ]
  },
  {
   "cell_type": "code",
   "execution_count": 27,
   "metadata": {
    "colab": {
     "autoexec": {
      "startup": false,
      "wait_interval": 0
     }
    },
    "colab_type": "code",
    "id": "dICDOv9kUcdc"
   },
   "outputs": [],
   "source": [
    "import seaborn as sns"
   ]
  },
  {
   "cell_type": "markdown",
   "metadata": {
    "colab_type": "text",
    "id": "lYru8t31Ycf4"
   },
   "source": [
    "### Posting value by vendor"
   ]
  },
  {
   "cell_type": "code",
   "execution_count": 28,
   "metadata": {
    "colab": {
     "autoexec": {
      "startup": false,
      "wait_interval": 0
     },
     "base_uri": "https://localhost:8080/",
     "height": 279
    },
    "colab_type": "code",
    "executionInfo": {
     "elapsed": 666,
     "status": "ok",
     "timestamp": 1524249676890,
     "user": {
      "displayName": "Michael Schermann",
      "photoUrl": "//lh3.googleusercontent.com/-sXyTj9V4mk8/AAAAAAAAAAI/AAAAAAAAAD4/JcGCCFE3xt8/s50-c-k-no/photo.jpg",
      "userId": "115913240975069260630"
     },
     "user_tz": 420
    },
    "id": "FZzhAMPpUcdd",
    "outputId": "48a9aa88-d9bb-418f-bb5f-d21e111b081b"
   },
   "outputs": [
    {
     "data": {
      "image/png": "[encoded data removed]",
      "text/plain": [
       "<Figure size 640x480 with 1 Axes>"
      ]
     },
     "metadata": {},
     "output_type": "display_data"
    }
   ],
   "source": [
    "sns.pointplot(x='first', y='count', hue='LIFNR',data=ben_vp_vendor)\n",
    "sns.pointplot(x='n', y='b' ,data=ben_predict, color='black');"
   ]
  },
  {
   "cell_type": "markdown",
   "metadata": {
    "colab_type": "text",
    "id": "PZE_firLYhN5"
   },
   "source": [
    "### Posting value by accountant"
   ]
  },
  {
   "cell_type": "code",
   "execution_count": 29,
   "metadata": {
    "colab": {
     "autoexec": {
      "startup": false,
      "wait_interval": 0
     },
     "base_uri": "https://localhost:8080/",
     "height": 279
    },
    "colab_type": "code",
    "executionInfo": {
     "elapsed": 617,
     "status": "ok",
     "timestamp": 1524249680197,
     "user": {
      "displayName": "Michael Schermann",
      "photoUrl": "//lh3.googleusercontent.com/-sXyTj9V4mk8/AAAAAAAAAAI/AAAAAAAAAD4/JcGCCFE3xt8/s50-c-k-no/photo.jpg",
      "userId": "115913240975069260630"
     },
     "user_tz": 420
    },
    "id": "i2uY7X8aUcdg",
    "outputId": "cbcd993b-6a9a-48b8-d2a8-6c751dfd9302"
   },
   "outputs": [
    {
     "data": {
      "image/png": "[encoded data removed]",
      "text/plain": [
       "<Figure size 640x480 with 1 Axes>"
      ]
     },
     "metadata": {},
     "output_type": "display_data"
    }
   ],
   "source": [
    "import matplotlib.pyplot as plt\n",
    "import seaborn as sns\n",
    "\n",
    "sns.pointplot(x='first', y='count', hue='USNAM',data=ben_vp_accountant)\n",
    "sns.pointplot(x='n', y='b' ,data=ben_predict, color='black');"
   ]
  },
  {
   "cell_type": "markdown",
   "metadata": {
    "colab_type": "text",
    "id": "0azj-0PzYkzd"
   },
   "source": [
    "## Who is this GBIFAC-01 and what happened?"
   ]
  },
  {
   "cell_type": "code",
   "execution_count": 30,
   "metadata": {
    "colab": {
     "autoexec": {
      "startup": false,
      "wait_interval": 0
     },
     "base_uri": "https://localhost:8080/",
     "height": 34
    },
    "colab_type": "code",
    "executionInfo": {
     "elapsed": 631,
     "status": "ok",
     "timestamp": 1524249690104,
     "user": {
      "displayName": "Michael Schermann",
      "photoUrl": "//lh3.googleusercontent.com/-sXyTj9V4mk8/AAAAAAAAAAI/AAAAAAAAAD4/JcGCCFE3xt8/s50-c-k-no/photo.jpg",
      "userId": "115913240975069260630"
     },
     "user_tz": 420
    },
    "id": "ktMKB4niUcdj",
    "outputId": "e37b5316-3b04-41f3-eeae-7631d637fa2d"
   },
   "outputs": [
    {
     "data": {
      "text/plain": [
       "5"
      ]
     },
     "execution_count": 30,
     "metadata": {},
     "output_type": "execute_result"
    }
   ],
   "source": [
    "len(vp[(vp['USNAM']=='GBIFAC-01') & (vp['first'].isin([7,8,9])) & (vp['LIFNR'] != 125134)])"
   ]
  },
  {
   "cell_type": "code",
   "execution_count": 31,
   "metadata": {
    "colab": {
     "autoexec": {
      "startup": false,
      "wait_interval": 0
     },
     "base_uri": "https://localhost:8080/",
     "height": 34
    },
    "colab_type": "code",
    "executionInfo": {
     "elapsed": 322,
     "status": "ok",
     "timestamp": 1524249709799,
     "user": {
      "displayName": "Michael Schermann",
      "photoUrl": "//lh3.googleusercontent.com/-sXyTj9V4mk8/AAAAAAAAAAI/AAAAAAAAAD4/JcGCCFE3xt8/s50-c-k-no/photo.jpg",
      "userId": "115913240975069260630"
     },
     "user_tz": 420
    },
    "id": "CWz4GK4PXJMz",
    "outputId": "2187a4be-08c6-4f16-8325-0c391452cb12"
   },
   "outputs": [
    {
     "data": {
      "text/plain": [
       "42"
      ]
     },
     "execution_count": 31,
     "metadata": {},
     "output_type": "execute_result"
    }
   ],
   "source": [
    "len(vp[(vp['USNAM']=='GBIFAC-01') & (vp['first'].isin([7,8,9])) & (vp['LIFNR'] == 125134)])"
   ]
  },
  {
   "cell_type": "code",
   "execution_count": 32,
   "metadata": {
    "colab": {
     "autoexec": {
      "startup": false,
      "wait_interval": 0
     },
     "base_uri": "https://localhost:8080/",
     "height": 34
    },
    "colab_type": "code",
    "executionInfo": {
     "elapsed": 334,
     "status": "ok",
     "timestamp": 1524249710634,
     "user": {
      "displayName": "Michael Schermann",
      "photoUrl": "//lh3.googleusercontent.com/-sXyTj9V4mk8/AAAAAAAAAAI/AAAAAAAAAD4/JcGCCFE3xt8/s50-c-k-no/photo.jpg",
      "userId": "115913240975069260630"
     },
     "user_tz": 420
    },
    "id": "35js37GJXKoV",
    "outputId": "d34f323f-12b2-4497-8465-b21018946106"
   },
   "outputs": [
    {
     "data": {
      "text/plain": [
       "4"
      ]
     },
     "execution_count": 32,
     "metadata": {},
     "output_type": "execute_result"
    }
   ],
   "source": [
    "len(vp[(vp['USNAM']=='GBIFAC-01') & ~(vp['first'].isin([7,8,9])) & (vp['LIFNR'] == 125134)])"
   ]
  },
  {
   "cell_type": "code",
   "execution_count": 33,
   "metadata": {
    "colab": {
     "autoexec": {
      "startup": false,
      "wait_interval": 0
     },
     "base_uri": "https://localhost:8080/",
     "height": 34
    },
    "colab_type": "code",
    "executionInfo": {
     "elapsed": 423,
     "status": "ok",
     "timestamp": 1524249711857,
     "user": {
      "displayName": "Michael Schermann",
      "photoUrl": "//lh3.googleusercontent.com/-sXyTj9V4mk8/AAAAAAAAAAI/AAAAAAAAAD4/JcGCCFE3xt8/s50-c-k-no/photo.jpg",
      "userId": "115913240975069260630"
     },
     "user_tz": 420
    },
    "id": "XJG3DJvoXL9r",
    "outputId": "36f454c7-c663-4c46-9ec4-e48f322d60f3"
   },
   "outputs": [
    {
     "data": {
      "text/plain": [
       "130"
      ]
     },
     "execution_count": 33,
     "metadata": {},
     "output_type": "execute_result"
    }
   ],
   "source": [
    "len(vp[(vp['USNAM']=='GBIFAC-01')])"
   ]
  },
  {
   "cell_type": "code",
   "execution_count": 34,
   "metadata": {
    "colab": {
     "autoexec": {
      "startup": false,
      "wait_interval": 0
     },
     "base_uri": "https://localhost:8080/",
     "height": 34
    },
    "colab_type": "code",
    "executionInfo": {
     "elapsed": 289,
     "status": "ok",
     "timestamp": 1524249732411,
     "user": {
      "displayName": "Michael Schermann",
      "photoUrl": "//lh3.googleusercontent.com/-sXyTj9V4mk8/AAAAAAAAAAI/AAAAAAAAAD4/JcGCCFE3xt8/s50-c-k-no/photo.jpg",
      "userId": "115913240975069260630"
     },
     "user_tz": 420
    },
    "id": "2X6GX2MoUcdm",
    "outputId": "56d3f29a-b295-45fd-8dad-99bf759f3749"
   },
   "outputs": [
    {
     "data": {
      "text/plain": [
       "3697715.58"
      ]
     },
     "execution_count": 34,
     "metadata": {},
     "output_type": "execute_result"
    }
   ],
   "source": [
    "vp[(vp['USNAM']=='GBIFAC-01') & (vp['first'].isin([7,8,9])) & (vp['LIFNR'] == 125134)]['WRBTR'].astype(float).sum()"
   ]
  },
  {
   "cell_type": "code",
   "execution_count": 35,
   "metadata": {
    "colab": {
     "autoexec": {
      "startup": false,
      "wait_interval": 0
     },
     "base_uri": "https://localhost:8080/",
     "height": 34
    },
    "colab_type": "code",
    "executionInfo": {
     "elapsed": 286,
     "status": "ok",
     "timestamp": 1524249745966,
     "user": {
      "displayName": "Michael Schermann",
      "photoUrl": "//lh3.googleusercontent.com/-sXyTj9V4mk8/AAAAAAAAAAI/AAAAAAAAAD4/JcGCCFE3xt8/s50-c-k-no/photo.jpg",
      "userId": "115913240975069260630"
     },
     "user_tz": 420
    },
    "id": "t6ypLYXMUcdp",
    "outputId": "069ec5e0-a057-4730-895f-c26ac06027da"
   },
   "outputs": [
    {
     "data": {
      "text/plain": [
       "59659.58"
      ]
     },
     "execution_count": 35,
     "metadata": {},
     "output_type": "execute_result"
    }
   ],
   "source": [
    "vp[(vp['USNAM']=='GBIFAC-01') & ~(vp['first'].isin([7,8,9])) & (vp['LIFNR'] == 125134)]['WRBTR'].astype(float).sum()"
   ]
  },
  {
   "cell_type": "markdown",
   "metadata": {
    "colab_type": "text",
    "id": "EH7-zWmnXgYs"
   },
   "source": [
    "**We need to talk to GBIFAC-01!**"
   ]
  }
 ],
 "metadata": {
  "colab": {
   "default_view": {},
   "name": "Introduction.ipynb",
   "provenance": [],
   "version": "0.3.2",
   "views": {}
  },
  "kernelspec": {
   "display_name": "Python 3 (ipykernel)",
   "language": "python",
   "name": "python3"
  },
  "language_info": {
   "codemirror_mode": {
    "name": "ipython",
    "version": 3
   },
   "file_extension": ".py",
   "mimetype": "text/x-python",
   "name": "python",
   "nbconvert_exporter": "python",
   "pygments_lexer": "ipython3",
   "version": "3.10.7"
  }
 },
 "nbformat": 4,
 "nbformat_minor": 1
}
